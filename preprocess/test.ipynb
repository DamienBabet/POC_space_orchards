{
 "cells": [
  {
   "cell_type": "code",
   "execution_count": 1,
   "metadata": {},
   "outputs": [],
   "source": [
    "import os\n",
    "import glob\n",
    "import rasterio\n",
    "import numpy as np\n",
    "import geopandas as gpd\n",
    "import folium\n",
    "from rasterio.features import shapes\n",
    "from shapely.geometry import shape, MultiPolygon"
   ]
  },
  {
   "cell_type": "code",
   "execution_count": 30,
   "metadata": {},
   "outputs": [
    {
     "name": "stdout",
     "output_type": "stream",
     "text": [
      "Conversion terminée, affichage sur Folium...\n"
     ]
    },
    {
     "name": "stderr",
     "output_type": "stream",
     "text": [
      "/tmp/ipykernel_99646/520818002.py:28: UserWarning: Geometry is in a geographic CRS. Results from 'area' are likely incorrect. Use 'GeoSeries.to_crs()' to re-project geometries to a projected CRS before this operation.\n",
      "\n",
      "  largest_polygon = gdf.geometry.area.idxmax()  # Index du plus grand polygone\n",
      "/tmp/ipykernel_99646/520818002.py:29: UserWarning: Geometry is in a geographic CRS. Results from 'centroid' are likely incorrect. Use 'GeoSeries.to_crs()' to re-project geometries to a projected CRS before this operation.\n",
      "\n",
      "  center_x, center_y = gdf.geometry.centroid.iloc[largest_polygon].coords[0]\n"
     ]
    }
   ],
   "source": [
    "\n",
    "# Fonction pour extraire les polygones par classe\n",
    "def extract_polygons_from_tif(tif_path):\n",
    "    with rasterio.open(tif_path) as src:\n",
    "        image = src.read(1)  # Lire la première bande (classes)\n",
    "        transform = src.transform  # Récupérer la transformation géospatiale\n",
    "        \n",
    "        # Obtenir les polygones des classes\n",
    "        for shape_dict, value in shapes(image, transform=transform):\n",
    "            if value > 0:  # On ignore la classe 0 si elle représente le fond\n",
    "                features.append({\"geometry\": shape(shape_dict), \"class\": int(value)})\n",
    "\n",
    "# Appliquer la fonction à chaque fichier\n",
    "for tif_file in tif_files:\n",
    "    extract_polygons_from_tif(tif_file)\n",
    "\n",
    "# Convertir en GeoDataFrame\n",
    "gdf = gpd.GeoDataFrame(features, crs=\"EPSG:3035\")  # Lambert-93\n",
    "\n",
    "# Sauvegarder en shapefile (facultatif)\n",
    "#gdf.to_file(f\"{label_dir}/concatenated_labels.shp\")\n",
    "\n",
    "gdf = gdf.to_crs(4326)\n",
    "print(\"Conversion terminée, affichage sur Folium...\")\n",
    "\n",
    "# --- Étape 5 : Afficher sur Folium ---\n",
    "# Déterminer le centre de la carte\n",
    "\n",
    "largest_polygon = gdf.geometry.area.idxmax()  # Index du plus grand polygone\n",
    "center_x, center_y = gdf.geometry.centroid.iloc[largest_polygon].coords[0]\n",
    "\n",
    "m = folium.Map(location=[center_y, center_x], zoom_start=15)\n",
    "\n",
    "\n",
    "# Définir les couleurs adaptées aux classes\n",
    "class_colors = {\n",
    "    1: \"#8B0000\",  # Rouge foncé - Sealed\n",
    "    2: \"#006400\",  # Vert foncé - Conifères\n",
    "    3: \"#228B22\",  # Vert forêt - Feuillus caducs\n",
    "    4: \"#32CD32\",  # Vert clair - Feuillus persistants\n",
    "    5: \"#8FBC8F\",  # Vert gris - Arbustes\n",
    "    6: \"#ADFF2F\",  # Vert jaune - Herbacées permanentes\n",
    "    7: \"#FFD700\",  # Jaune - Herbacées saisonnières\n",
    "    8: \"#D2B48C\",  # Beige - Lichens/mousses\n",
    "    9: \"#A9A9A9\",  # Gris foncé - Roches, désert\n",
    "    10: \"#1E90FF\",  # Bleu vif - Eau\n",
    "    11: \"#FFFFFF\",  # Blanc - Neige et glace\n",
    "    254: \"#000000\",  # Noir - Hors zone\n",
    "    255: \"#808080\"  # Gris - No data\n",
    "}\n",
    "gdf_filtered = gdf[gdf[\"class\"] == 1]\n",
    "\n",
    "# Ajouter chaque classe sur la carte Folium\n",
    "for _, row in gdf_filtered.iterrows():\n",
    "    folium.GeoJson(\n",
    "        row.geometry,\n",
    "        name=f\"Class {row['class']}\",\n",
    "        style_function=lambda feature, color=class_colors.get(row[\"class\"], \"black\"): {\n",
    "            \"fillColor\": color,\n",
    "            \"color\": color,\n",
    "            \"weight\": 1,\n",
    "            \"fillOpacity\": 0.5,\n",
    "        },\n",
    "    ).add_to(m)\n"
   ]
  },
  {
   "cell_type": "markdown",
   "metadata": {},
   "source": []
  },
  {
   "cell_type": "markdown",
   "metadata": {},
   "source": [
    "## polygone de différence !"
   ]
  },
  {
   "cell_type": "code",
   "execution_count": 43,
   "metadata": {},
   "outputs": [
    {
     "name": "stdout",
     "output_type": "stream",
     "text": [
      "GeoDataFrame des changements créé avec succès !\n"
     ]
    }
   ],
   "source": [
    "\n",
    "# --- Étape 1 : Définition des fichiers pour 2018 et 2021 ---\n",
    "NUTS3 = \"BE100\"\n",
    "label_dir = f\"../../data-preprocessed/labels/CLCplus-Backbone/SENTINEL2/{NUTS3}\"\n",
    "\n",
    "# Lister les fichiers .tif pour 2018 et 2021\n",
    "tif_2018_files = sorted(glob.glob(os.path.join(label_dir, \"2018/250/*.tif\")))\n",
    "tif_2021_files = sorted(glob.glob(os.path.join(label_dir, \"2021/250/*.tif\")))\n",
    "\n",
    "# Vérification que les listes de fichiers sont cohérentes\n",
    "assert len(tif_2018_files) == len(tif_2021_files), \"Nombre de fichiers différent entre 2018 et 2021 !\"\n",
    "\n",
    "# --- Étape 2 : Fonction pour binariser un raster (Classe 1 → 1, autres → 0) ---\n",
    "def load_and_binarize_raster(path):\n",
    "    \"\"\"Charge un raster et binarise : classe 1 → 1, autres → 0\"\"\"\n",
    "    with rasterio.open(path) as src:\n",
    "        image = src.read(1)  # Lire la première bande\n",
    "        transform = src.transform  # Transformation géospatiale\n",
    "    binary_image = np.where(image == 1, 1, 0).astype(np.uint8)\n",
    "    return binary_image, transform\n",
    "\n",
    "# --- Étape 3 : Calculer la différence des rasters et extraire les polygones ---\n",
    "features = []\n",
    "\n",
    "for tif_2018, tif_2021 in zip(tif_2018_files, tif_2021_files):\n",
    "    # Charger les rasters binarisés\n",
    "    binary_2018, transform = load_and_binarize_raster(tif_2018)\n",
    "    binary_2021, _ = load_and_binarize_raster(tif_2021)\n",
    "\n",
    "    # Matrice de changement des classes\n",
    "    change_matrix = binary_2018 * 2 + binary_2021  # (00 → 0, 01 → 1, 10 → 2, 11 → 3)\n",
    "\n",
    "    # Extraction des polygones uniquement pour les zones ayant changé (≠ 0)\n",
    "    for shape_dict, value in shapes(change_matrix, transform=transform):\n",
    "        if value > 0:  # Exclure les zones sans changement\n",
    "            features.append({\"geometry\": shape(shape_dict), \"class\": int(value)})\n",
    "\n",
    "# --- Étape 4 : Convertir en GeoDataFrame ---\n",
    "SRC_CRS = \"EPSG:3035\"  # Lambert-93\n",
    "TARGET_CRS = \"EPSG:4326\"  # WGS 84 (GPS)\n",
    "\n",
    "gdf = gpd.GeoDataFrame(features, crs=SRC_CRS).to_crs(TARGET_CRS)\n",
    "\n",
    "# Sauvegarde en shapefile (optionnel)\n",
    "gdf.to_file(f\"{label_dir}/change_polygons.shp\")\n",
    "\n",
    "print(\"GeoDataFrame des changements créé avec succès !\")\n",
    "gdf = gdf[gdf[\"class\"] != 0]\n"
   ]
  },
  {
   "cell_type": "code",
   "execution_count": 56,
   "metadata": {},
   "outputs": [
    {
     "name": "stderr",
     "output_type": "stream",
     "text": [
      "/tmp/ipykernel_99646/1020850332.py:11: UserWarning: Geometry is in a geographic CRS. Results from 'area' are likely incorrect. Use 'GeoSeries.to_crs()' to re-project geometries to a projected CRS before this operation.\n",
      "\n",
      "  largest_polygon_idx = gdf.geometry.area.idxmax()\n",
      "/tmp/ipykernel_99646/1020850332.py:12: UserWarning: Geometry is in a geographic CRS. Results from 'centroid' are likely incorrect. Use 'GeoSeries.to_crs()' to re-project geometries to a projected CRS before this operation.\n",
      "\n",
      "  center_x, center_y = gdf.geometry.centroid.iloc[largest_polygon_idx].coords[0]\n"
     ]
    }
   ],
   "source": [
    "\n",
    "\n",
    "# --- Étape 4 : Création d'une carte interactive Folium ---\n",
    "# Définir les couleurs pour les 4 transitions\n",
    "change_colors = {\n",
    "    0: \"#FFFFFF\",  # Pas de changement (blanc)\n",
    "    1: \"#FF0000\",  # Apparition de la classe 1 (rouge)\n",
    "    2: \"#0000FF\",  # Disparition de la classe 1 (bleu)\n",
    "    3: \"#FACFCB\",  # Classe 1 persistante (orange)\n",
    "}\n",
    "\n",
    "# Trouver le centroïde pour centrer la carte\n",
    "largest_polygon_idx = gdf.geometry.area.idxmax()\n",
    "center_x, center_y = gdf.geometry.centroid.iloc[largest_polygon_idx].coords[0]\n",
    "\n",
    "# Créer la carte centrée sur ce point\n",
    "m = folium.Map(location=[center_y, center_x], zoom_start=10)\n",
    "\n",
    "# Ajouter chaque classe sur la carte\n",
    "for _, row in gdf.iterrows():\n",
    "    folium.GeoJson(\n",
    "        row.geometry,\n",
    "        name=f\"Change {row['class']}\",\n",
    "        style_function=lambda feature, color=change_colors.get(row[\"class\"], \"#000000\"): {\n",
    "            \"fillColor\": color,\n",
    "            \"color\": color,\n",
    "            \"weight\": 1,\n",
    "            \"fillOpacity\": 0.5,\n",
    "        },\n",
    "    ).add_to(m)\n",
    "\n"
   ]
  },
  {
   "cell_type": "code",
   "execution_count": null,
   "metadata": {},
   "outputs": [],
   "source": [
    "m"
   ]
  }
 ],
 "metadata": {
  "kernelspec": {
   "display_name": "base",
   "language": "python",
   "name": "python3"
  },
  "language_info": {
   "codemirror_mode": {
    "name": "ipython",
    "version": 3
   },
   "file_extension": ".py",
   "mimetype": "text/x-python",
   "name": "python",
   "nbconvert_exporter": "python",
   "pygments_lexer": "ipython3",
   "version": "3.12.7"
  }
 },
 "nbformat": 4,
 "nbformat_minor": 2
}
